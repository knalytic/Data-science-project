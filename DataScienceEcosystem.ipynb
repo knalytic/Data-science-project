{
 "cells": [
  {
   "cell_type": "markdown",
   "id": "bbcedb97-4ceb-439f-9df6-5337f0b061ca",
   "metadata": {},
   "source": [
    "# Data Science Tools and Ecosystem"
   ]
  },
  {
   "cell_type": "markdown",
   "id": "146ff5b7-e528-4ace-940b-e302c9478801",
   "metadata": {},
   "source": [
    "## In this notebook, Data Science Tools and Ecosystem are summarized."
   ]
  },
  {
   "cell_type": "markdown",
   "id": "ba819766-59d1-4b4e-955f-9787b3d9cdeb",
   "metadata": {},
   "source": [
    "**Objectives:**\n",
    "* List popular languages for Data Science\n",
    "* List of the commonly used libraries used by data Scientists\n",
    "* Examples of evaluating arithmetic expressions in Python"
   ]
  },
  {
   "cell_type": "markdown",
   "id": "afd8398c-561c-4056-944d-ca943c069bf2",
   "metadata": {},
   "source": [
    "## Some of the popular languages that Data Scientists use are:\n",
    "1. Python\n",
    "2. R\n",
    "3. SQL"
   ]
  },
  {
   "cell_type": "markdown",
   "id": "6c63e0ab-911a-48ba-99bb-2c6ac5263755",
   "metadata": {},
   "source": [
    "## Some of the commonly used libraries udes by Data Scientist include: \n",
    "1. Numpy\n",
    "2. Pandas\n",
    "3. GGplot"
   ]
  },
  {
   "cell_type": "markdown",
   "id": "f9ef7edd-01fc-4261-bc11-d646c50e1e4b",
   "metadata": {},
   "source": [
    "|Data Science Tools|\n",
    "|---------|\n",
    "|Jupyter Notebook|\n",
    "|Rstudio|\n",
    "|Hadoop Spark|"
   ]
  },
  {
   "cell_type": "markdown",
   "id": "bf9ad6e0-8255-4124-ad29-1452f425f5fc",
   "metadata": {},
   "source": [
    "### Below are a few examples of evaluating arithmetic expressions in Python\n",
    "\n"
   ]
  },
  {
   "cell_type": "code",
   "execution_count": 1,
   "id": "4137ced5-3111-4995-97a2-15cfad3172c3",
   "metadata": {},
   "outputs": [
    {
     "data": {
      "text/plain": [
       "30"
      ]
     },
     "execution_count": 1,
     "metadata": {},
     "output_type": "execute_result"
    }
   ],
   "source": [
    "x=10\n",
    "y=20\n",
    "x+y"
   ]
  },
  {
   "cell_type": "markdown",
   "id": "06a0bdb6-8153-4a15-a2d7-b30e026aff48",
   "metadata": {},
   "source": [
    " This a simple arithmetic expression to mutiply then add integers"
   ]
  },
  {
   "cell_type": "code",
   "execution_count": 3,
   "id": "dcd67899-93ae-4ea5-b371-ecfb486c0fe6",
   "metadata": {},
   "outputs": [
    {
     "data": {
      "text/plain": [
       "17"
      ]
     },
     "execution_count": 3,
     "metadata": {},
     "output_type": "execute_result"
    }
   ],
   "source": [
    "(3*4)+5"
   ]
  },
  {
   "cell_type": "markdown",
   "id": "7a133e95-e72d-4ae9-bbbd-2ffe65884874",
   "metadata": {},
   "source": [
    "## Convert minutes to hours"
   ]
  },
  {
   "cell_type": "markdown",
   "id": "191e5ef2-fc21-4a78-a06a-2f38cb85f1e2",
   "metadata": {},
   "source": [
    "This will convert 200 minutes to hours by diving by 60"
   ]
  },
  {
   "cell_type": "code",
   "execution_count": 4,
   "id": "bb1023f3-5c58-4892-b955-5d4b1a56ee20",
   "metadata": {},
   "outputs": [
    {
     "data": {
      "text/plain": [
       "3.3333333333333335"
      ]
     },
     "execution_count": 4,
     "metadata": {},
     "output_type": "execute_result"
    }
   ],
   "source": [
    "200/60"
   ]
  },
  {
   "cell_type": "markdown",
   "id": "c7a24252-414e-499f-8a54-129f62e66908",
   "metadata": {},
   "source": [
    "## Author:\n",
    "F. Kangoud"
   ]
  },
  {
   "cell_type": "code",
   "execution_count": null,
   "id": "2f6275dc-6515-4207-84bc-25bf18b3f2f5",
   "metadata": {},
   "outputs": [],
   "source": []
  }
 ],
 "metadata": {
  "kernelspec": {
   "display_name": "Python 3 (ipykernel)",
   "language": "python",
   "name": "python3"
  },
  "language_info": {
   "codemirror_mode": {
    "name": "ipython",
    "version": 3
   },
   "file_extension": ".py",
   "mimetype": "text/x-python",
   "name": "python",
   "nbconvert_exporter": "python",
   "pygments_lexer": "ipython3",
   "version": "3.12.2"
  }
 },
 "nbformat": 4,
 "nbformat_minor": 5
}
